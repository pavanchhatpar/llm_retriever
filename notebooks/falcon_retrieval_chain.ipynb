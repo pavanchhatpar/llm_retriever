{
 "cells": [
  {
   "cell_type": "code",
   "execution_count": null,
   "metadata": {
    "application/vnd.databricks.v1+cell": {
     "cellMetadata": {
      "byteLimit": 2048000,
      "rowLimit": 10000
     },
     "inputWidgets": {},
     "nuid": "c540ba9b-932c-4bf1-a929-ebe666100859",
     "showTitle": false,
     "title": ""
    }
   },
   "outputs": [
    {
     "name": "stdout",
     "output_type": "stream",
     "text": [
      "Python interpreter will be restarted.\n",
      "Looking in indexes: https://pypi.org/simple, https://pypi.org/simple, https://download.pytorch.org/whl/cu117\n",
      "Collecting PyMuPDF==1.22.3\n",
      "  Downloading PyMuPDF-1.22.3-cp39-cp39-manylinux_2_17_x86_64.manylinux2014_x86_64.whl (14.1 MB)\n",
      "Collecting faiss-cpu==1.7.4\n",
      "  Downloading faiss_cpu-1.7.4-cp39-cp39-manylinux_2_17_x86_64.manylinux2014_x86_64.whl (17.6 MB)\n",
      "Collecting langchain==0.0.212\n",
      "  Downloading langchain-0.0.212-py3-none-any.whl (1.1 MB)\n",
      "Collecting sentence-transformers==2.2.2\n",
      "  Downloading sentence-transformers-2.2.2.tar.gz (85 kB)\n",
      "Collecting transformers==4.30.2\n",
      "  Downloading transformers-4.30.2-py3-none-any.whl (7.2 MB)\n",
      "Collecting pydantic==1.10.9\n",
      "  Downloading pydantic-1.10.9-cp39-cp39-manylinux_2_17_x86_64.manylinux2014_x86_64.whl (3.2 MB)\n",
      "Collecting accelerate==0.20.3\n",
      "  Downloading accelerate-0.20.3-py3-none-any.whl (227 kB)\n",
      "Collecting optimum==1.8.8\n",
      "  Downloading optimum-1.8.8.tar.gz (244 kB)\n",
      "  Installing build dependencies: started\n",
      "  Installing build dependencies: finished with status 'done'\n",
      "  Getting requirements to build wheel: started\n",
      "  Getting requirements to build wheel: finished with status 'done'\n",
      "    Preparing wheel metadata: started\n",
      "    Preparing wheel metadata: finished with status 'done'\n",
      "Collecting einops==0.6.1\n",
      "  Downloading einops-0.6.1-py3-none-any.whl (42 kB)\n",
      "Collecting bitsandbytes==0.39.1\n",
      "  Downloading bitsandbytes-0.39.1-py3-none-any.whl (97.1 MB)\n",
      "Collecting torch==2.0.1\n",
      "  Downloading https://download.pytorch.org/whl/cu117/torch-2.0.1%2Bcu117-cp39-cp39-linux_x86_64.whl (1843.9 MB)\n",
      "Collecting torchvision==0.15.2\n",
      "  Downloading https://download.pytorch.org/whl/cu117/torchvision-0.15.2%2Bcu117-cp39-cp39-linux_x86_64.whl (6.1 MB)\n",
      "Collecting openapi-schema-pydantic<2.0,>=1.2\n",
      "  Downloading openapi_schema_pydantic-1.2.4-py3-none-any.whl (90 kB)\n",
      "Collecting langchainplus-sdk>=0.0.17\n",
      "  Downloading langchainplus_sdk-0.0.20-py3-none-any.whl (25 kB)\n",
      "Collecting numexpr<3.0.0,>=2.8.4\n",
      "  Downloading numexpr-2.8.4-cp39-cp39-manylinux_2_17_x86_64.manylinux2014_x86_64.whl (380 kB)\n",
      "Collecting SQLAlchemy<3,>=1.4\n",
      "  Downloading SQLAlchemy-2.0.18-cp39-cp39-manylinux_2_17_x86_64.manylinux2014_x86_64.whl (2.8 MB)\n",
      "Collecting tenacity<9.0.0,>=8.1.0\n",
      "  Downloading tenacity-8.2.2-py3-none-any.whl (24 kB)\n",
      "Requirement already satisfied: numpy<2,>=1 in /databricks/python3/lib/python3.9/site-packages (from langchain==0.0.212) (1.21.5)\n",
      "Requirement already satisfied: PyYAML>=5.4.1 in /databricks/python3/lib/python3.9/site-packages (from langchain==0.0.212) (6.0)\n",
      "Requirement already satisfied: requests<3,>=2 in /databricks/python3/lib/python3.9/site-packages (from langchain==0.0.212) (2.27.1)\n",
      "Collecting dataclasses-json<0.6.0,>=0.5.7\n",
      "  Downloading dataclasses_json-0.5.9-py3-none-any.whl (26 kB)\n",
      "Collecting aiohttp<4.0.0,>=3.8.3\n",
      "  Downloading aiohttp-3.8.4-cp39-cp39-manylinux_2_17_x86_64.manylinux2014_x86_64.whl (1.0 MB)\n",
      "Collecting async-timeout<5.0.0,>=4.0.0\n",
      "  Downloading async_timeout-4.0.2-py3-none-any.whl (5.8 kB)\n",
      "Requirement already satisfied: tqdm in /databricks/python3/lib/python3.9/site-packages (from sentence-transformers==2.2.2) (4.64.0)\n",
      "Requirement already satisfied: scikit-learn in /databricks/python3/lib/python3.9/site-packages (from sentence-transformers==2.2.2) (1.0.2)\n",
      "Requirement already satisfied: scipy in /databricks/python3/lib/python3.9/site-packages (from sentence-transformers==2.2.2) (1.7.3)\n",
      "Requirement already satisfied: nltk in /databricks/python3/lib/python3.9/site-packages (from sentence-transformers==2.2.2) (3.7)\n",
      "Collecting sentencepiece\n",
      "  Downloading sentencepiece-0.1.99-cp39-cp39-manylinux_2_17_x86_64.manylinux2014_x86_64.whl (1.3 MB)\n",
      "Requirement already satisfied: huggingface-hub>=0.4.0 in /databricks/python3/lib/python3.9/site-packages (from sentence-transformers==2.2.2) (0.12.0)\n",
      "Collecting huggingface-hub>=0.4.0\n",
      "  Downloading huggingface_hub-0.16.4-py3-none-any.whl (268 kB)\n",
      "Requirement already satisfied: packaging>=20.0 in /databricks/python3/lib/python3.9/site-packages (from transformers==4.30.2) (21.3)\n",
      "Collecting safetensors>=0.3.1\n",
      "  Downloading safetensors-0.3.1-cp39-cp39-manylinux_2_17_x86_64.manylinux2014_x86_64.whl (1.3 MB)\n",
      "Requirement already satisfied: filelock in /databricks/python3/lib/python3.9/site-packages (from transformers==4.30.2) (3.6.0)\n",
      "Requirement already satisfied: regex!=2019.12.17 in /databricks/python3/lib/python3.9/site-packages (from transformers==4.30.2) (2022.3.15)\n",
      "Requirement already satisfied: tokenizers!=0.11.3,<0.14,>=0.11.1 in /databricks/python3/lib/python3.9/site-packages (from transformers==4.30.2) (0.13.2)\n",
      "Collecting typing-extensions>=4.2.0\n",
      "  Downloading typing_extensions-4.7.1-py3-none-any.whl (33 kB)\n",
      "Requirement already satisfied: psutil in /databricks/python3/lib/python3.9/site-packages (from accelerate==0.20.3) (5.8.0)\n",
      "Collecting datasets\n",
      "  Downloading datasets-2.13.1-py3-none-any.whl (486 kB)\n",
      "Collecting coloredlogs\n",
      "  Downloading coloredlogs-15.0.1-py2.py3-none-any.whl (46 kB)\n",
      "Collecting sympy\n",
      "  Downloading sympy-1.12-py3-none-any.whl (5.7 MB)\n",
      "Requirement already satisfied: jinja2 in /databricks/python3/lib/python3.9/site-packages (from torch==2.0.1) (2.11.3)\n",
      "Collecting triton==2.0.0\n",
      "  Downloading https://download.pytorch.org/whl/triton-2.0.0-1-cp39-cp39-manylinux2014_x86_64.manylinux_2_17_x86_64.whl (63.3 MB)\n",
      "Requirement already satisfied: networkx in /databricks/python3/lib/python3.9/site-packages (from torch==2.0.1) (2.7.1)\n",
      "Requirement already satisfied: pillow!=8.3.*,>=5.3.0 in /databricks/python3/lib/python3.9/site-packages (from torchvision==0.15.2) (9.0.1)\n",
      "Collecting lit\n",
      "  Downloading lit-16.0.6.tar.gz (153 kB)\n",
      "  Installing build dependencies: started\n",
      "  Installing build dependencies: finished with status 'done'\n",
      "  Getting requirements to build wheel: started\n",
      "  Getting requirements to build wheel: finished with status 'done'\n",
      "  Installing backend dependencies: started\n",
      "  Installing backend dependencies: finished with status 'done'\n",
      "    Preparing wheel metadata: started\n",
      "    Preparing wheel metadata: finished with status 'done'\n",
      "Collecting cmake\n",
      "  Downloading cmake-3.26.4-py2.py3-none-manylinux2014_x86_64.manylinux_2_17_x86_64.whl (24.0 MB)\n",
      "Collecting frozenlist>=1.1.1\n",
      "  Downloading frozenlist-1.3.3-cp39-cp39-manylinux_2_5_x86_64.manylinux1_x86_64.manylinux_2_17_x86_64.manylinux2014_x86_64.whl (158 kB)\n",
      "Requirement already satisfied: charset-normalizer<4.0,>=2.0 in /databricks/python3/lib/python3.9/site-packages (from aiohttp<4.0.0,>=3.8.3->langchain==0.0.212) (2.0.4)\n",
      "Collecting yarl<2.0,>=1.0\n",
      "  Downloading yarl-1.9.2-cp39-cp39-manylinux_2_17_x86_64.manylinux2014_x86_64.whl (269 kB)\n",
      "Collecting aiosignal>=1.1.2\n",
      "  Downloading aiosignal-1.3.1-py3-none-any.whl (7.6 kB)\n",
      "Collecting multidict<7.0,>=4.5\n",
      "  Downloading multidict-6.0.4-cp39-cp39-manylinux_2_17_x86_64.manylinux2014_x86_64.whl (114 kB)\n",
      "Requirement already satisfied: attrs>=17.3.0 in /databricks/python3/lib/python3.9/site-packages (from aiohttp<4.0.0,>=3.8.3->langchain==0.0.212) (21.4.0)\n",
      "Collecting typing-inspect>=0.4.0\n",
      "  Downloading typing_inspect-0.9.0-py3-none-any.whl (8.8 kB)\n",
      "Collecting marshmallow<4.0.0,>=3.3.0\n",
      "  Downloading marshmallow-3.19.0-py3-none-any.whl (49 kB)\n",
      "Collecting marshmallow-enum<2.0.0,>=1.5.1\n",
      "  Downloading marshmallow_enum-1.5.1-py2.py3-none-any.whl (4.2 kB)\n",
      "Requirement already satisfied: fsspec in /databricks/python3/lib/python3.9/site-packages (from huggingface-hub>=0.4.0->sentence-transformers==2.2.2) (2022.2.0)\n",
      "Requirement already satisfied: pyparsing!=3.0.5,>=2.0.2 in /databricks/python3/lib/python3.9/site-packages (from packaging>=20.0->transformers==4.30.2) (3.0.4)\n",
      "Requirement already satisfied: idna<4,>=2.5 in /databricks/python3/lib/python3.9/site-packages (from requests<3,>=2->langchain==0.0.212) (3.3)\n",
      "Requirement already satisfied: urllib3<1.27,>=1.21.1 in /databricks/python3/lib/python3.9/site-packages (from requests<3,>=2->langchain==0.0.212) (1.26.9)\n",
      "Requirement already satisfied: certifi>=2017.4.17 in /databricks/python3/lib/python3.9/site-packages (from requests<3,>=2->langchain==0.0.212) (2021.10.8)\n",
      "Collecting greenlet!=0.4.17\n",
      "  Downloading greenlet-2.0.2-cp39-cp39-manylinux_2_17_x86_64.manylinux2014_x86_64.whl (610 kB)\n",
      "Requirement already satisfied: protobuf<=3.20.3 in /databricks/python3/lib/python3.9/site-packages (from transformers==4.30.2) (3.19.4)\n",
      "Requirement already satisfied: mypy-extensions>=0.3.0 in /databricks/python3/lib/python3.9/site-packages (from typing-inspect>=0.4.0->dataclasses-json<0.6.0,>=0.5.7->langchain==0.0.212) (0.4.3)\n",
      "Collecting humanfriendly>=9.1\n",
      "  Downloading humanfriendly-10.0-py2.py3-none-any.whl (86 kB)\n",
      "Requirement already satisfied: dill<0.3.7,>=0.3.0 in /databricks/python3/lib/python3.9/site-packages (from datasets->optimum==1.8.8) (0.3.4)\n",
      "Requirement already satisfied: pandas in /databricks/python3/lib/python3.9/site-packages (from datasets->optimum==1.8.8) (1.4.2)\n",
      "Collecting pyarrow>=8.0.0\n",
      "  Downloading pyarrow-12.0.1-cp39-cp39-manylinux_2_17_x86_64.manylinux2014_x86_64.whl (39.0 MB)\n",
      "Collecting multiprocess\n",
      "  Downloading multiprocess-0.70.14-py39-none-any.whl (132 kB)\n",
      "Collecting xxhash\n",
      "  Downloading xxhash-3.2.0-cp39-cp39-manylinux_2_17_x86_64.manylinux2014_x86_64.whl (212 kB)\n",
      "Requirement already satisfied: MarkupSafe>=0.23 in /databricks/python3/lib/python3.9/site-packages (from jinja2->torch==2.0.1) (2.0.1)\n",
      "Collecting dill<0.3.7,>=0.3.0\n",
      "  Downloading dill-0.3.6-py3-none-any.whl (110 kB)\n",
      "Requirement already satisfied: click in /databricks/python3/lib/python3.9/site-packages (from nltk->sentence-transformers==2.2.2) (8.0.4)\n",
      "Requirement already satisfied: joblib in /databricks/python3/lib/python3.9/site-packages (from nltk->sentence-transformers==2.2.2) (1.1.1)\n",
      "Requirement already satisfied: python-dateutil>=2.8.1 in /databricks/python3/lib/python3.9/site-packages (from pandas->datasets->optimum==1.8.8) (2.8.2)\n",
      "Requirement already satisfied: pytz>=2020.1 in /databricks/python3/lib/python3.9/site-packages (from pandas->datasets->optimum==1.8.8) (2021.3)\n",
      "Requirement already satisfied: six>=1.5 in /databricks/python3/lib/python3.9/site-packages (from python-dateutil>=2.8.1->pandas->datasets->optimum==1.8.8) (1.16.0)\n",
      "Requirement already satisfied: threadpoolctl>=2.0.0 in /databricks/python3/lib/python3.9/site-packages (from scikit-learn->sentence-transformers==2.2.2) (2.2.0)\n",
      "Collecting mpmath>=0.19\n",
      "  Downloading mpmath-1.3.0-py3-none-any.whl (536 kB)\n",
      "Building wheels for collected packages: sentence-transformers, optimum, lit\n",
      "  Building wheel for sentence-transformers (setup.py): started\n",
      "  Building wheel for sentence-transformers (setup.py): finished with status 'done'\n",
      "  Created wheel for sentence-transformers: filename=sentence_transformers-2.2.2-py3-none-any.whl size=125940 sha256=63c521715655e00ba88e8c0c0e25f0e7f784344ca8993b72656992c06a90b944\n",
      "  Stored in directory: /root/.cache/pip/wheels/71/67/06/162a3760c40d74dd40bc855d527008d26341c2b0ecf3e8e11f\n",
      "  Building wheel for optimum (PEP 517): started\n",
      "  Building wheel for optimum (PEP 517): finished with status 'done'\n",
      "  Created wheel for optimum: filename=optimum-1.8.8-py3-none-any.whl size=318469 sha256=91042f19bc48547a3de620abbb0436e6e399cb040ee49287d9b29650a81d96b4\n",
      "  Stored in directory: /root/.cache/pip/wheels/69/e2/86/da34b95611d1dda7f14d1178312c5bd77121cf1ee0af353fe7\n",
      "  Building wheel for lit (PEP 517): started\n",
      "  Building wheel for lit (PEP 517): finished with status 'done'\n",
      "  Created wheel for lit: filename=lit-16.0.6-py3-none-any.whl size=93605 sha256=17b94237c8fb73dde5894ff1116c29f4d263514ac4b78e27c6a01a6ddaa74429\n",
      "  Stored in directory: /root/.cache/pip/wheels/a5/36/d6/cac2e6fb891889b33a548f2fddb8b4b7726399aaa2ed32b188\n",
      "Successfully built sentence-transformers optimum lit\n",
      "Installing collected packages: multidict, frozenlist, yarl, typing-extensions, mpmath, lit, cmake, async-timeout, aiosignal, triton, sympy, safetensors, marshmallow, huggingface-hub, dill, aiohttp, xxhash, typing-inspect, transformers, torch, tenacity, sentencepiece, pydantic, pyarrow, multiprocess, marshmallow-enum, humanfriendly, greenlet, torchvision, SQLAlchemy, openapi-schema-pydantic, numexpr, langchainplus-sdk, datasets, dataclasses-json, coloredlogs, sentence-transformers, PyMuPDF, optimum, langchain, faiss-cpu, einops, bitsandbytes, accelerate\n",
      "  Attempting uninstall: typing-extensions\n",
      "    Found existing installation: typing-extensions 4.1.1\n",
      "    Not uninstalling typing-extensions at /databricks/python3/lib/python3.9/site-packages, outside environment /local_disk0/.ephemeral_nfs/envs/pythonEnv-93dba16f-79e5-49c7-917d-a5254d8bb7b4\n",
      "    Can't uninstall 'typing-extensions'. No files were found to uninstall.\n",
      "  Attempting uninstall: huggingface-hub\n",
      "    Found existing installation: huggingface-hub 0.12.0\n",
      "    Not uninstalling huggingface-hub at /databricks/python3/lib/python3.9/site-packages, outside environment /local_disk0/.ephemeral_nfs/envs/pythonEnv-93dba16f-79e5-49c7-917d-a5254d8bb7b4\n",
      "    Can't uninstall 'huggingface-hub'. No files were found to uninstall.\n",
      "  Attempting uninstall: dill\n",
      "    Found existing installation: dill 0.3.4\n",
      "    Not uninstalling dill at /databricks/python3/lib/python3.9/site-packages, outside environment /local_disk0/.ephemeral_nfs/envs/pythonEnv-93dba16f-79e5-49c7-917d-a5254d8bb7b4\n",
      "    Can't uninstall 'dill'. No files were found to uninstall.\n",
      "  Attempting uninstall: transformers\n",
      "    Found existing installation: transformers 4.25.1\n",
      "    Not uninstalling transformers at /databricks/python3/lib/python3.9/site-packages, outside environment /local_disk0/.ephemeral_nfs/envs/pythonEnv-93dba16f-79e5-49c7-917d-a5254d8bb7b4\n",
      "    Can't uninstall 'transformers'. No files were found to uninstall.\n",
      "  Attempting uninstall: torch\n",
      "    Found existing installation: torch 1.13.1+cu117\n",
      "    Not uninstalling torch at /databricks/python3/lib/python3.9/site-packages, outside environment /local_disk0/.ephemeral_nfs/envs/pythonEnv-93dba16f-79e5-49c7-917d-a5254d8bb7b4\n",
      "    Can't uninstall 'torch'. No files were found to uninstall.\n",
      "  Attempting uninstall: tenacity\n",
      "    Found existing installation: tenacity 8.0.1\n",
      "    Not uninstalling tenacity at /databricks/python3/lib/python3.9/site-packages, outside environment /local_disk0/.ephemeral_nfs/envs/pythonEnv-93dba16f-79e5-49c7-917d-a5254d8bb7b4\n",
      "    Can't uninstall 'tenacity'. No files were found to uninstall.\n",
      "  Attempting uninstall: pydantic\n",
      "    Found existing installation: pydantic 1.10.2\n",
      "    Not uninstalling pydantic at /databricks/python3/lib/python3.9/site-packages, outside environment /local_disk0/.ephemeral_nfs/envs/pythonEnv-93dba16f-79e5-49c7-917d-a5254d8bb7b4\n",
      "    Can't uninstall 'pydantic'. No files were found to uninstall.\n",
      "  Attempting uninstall: pyarrow\n",
      "    Found existing installation: pyarrow 7.0.0\n",
      "    Not uninstalling pyarrow at /databricks/python3/lib/python3.9/site-packages, outside environment /local_disk0/.ephemeral_nfs/envs/pythonEnv-93dba16f-79e5-49c7-917d-a5254d8bb7b4\n",
      "    Can't uninstall 'pyarrow'. No files were found to uninstall.\n",
      "  Attempting uninstall: torchvision\n",
      "    Found existing installation: torchvision 0.14.1+cu117\n",
      "    Not uninstalling torchvision at /databricks/python3/lib/python3.9/site-packages, outside environment /local_disk0/.ephemeral_nfs/envs/pythonEnv-93dba16f-79e5-49c7-917d-a5254d8bb7b4\n",
      "    Can't uninstall 'torchvision'. No files were found to uninstall.\n",
      "ERROR: pip's dependency resolver does not currently take into account all the packages that are installed. This behaviour is the source of the following dependency conflicts.\n",
      "petastorm 0.12.1 requires pyspark>=2.1.0, which is not installed.\n",
      "Successfully installed PyMuPDF-1.22.3 SQLAlchemy-2.0.18 accelerate-0.20.3 aiohttp-3.8.4 aiosignal-1.3.1 async-timeout-4.0.2 bitsandbytes-0.39.1 cmake-3.26.4 coloredlogs-15.0.1 dataclasses-json-0.5.9 datasets-2.13.1 dill-0.3.6 einops-0.6.1 faiss-cpu-1.7.4 frozenlist-1.3.3 greenlet-2.0.2 huggingface-hub-0.16.4 humanfriendly-10.0 langchain-0.0.212 langchainplus-sdk-0.0.20 lit-16.0.6 marshmallow-3.19.0 marshmallow-enum-1.5.1 mpmath-1.3.0 multidict-6.0.4 multiprocess-0.70.14 numexpr-2.8.4 openapi-schema-pydantic-1.2.4 optimum-1.8.8 pyarrow-12.0.1 pydantic-1.10.9 safetensors-0.3.1 sentence-transformers-2.2.2 sentencepiece-0.1.99 sympy-1.12 tenacity-8.2.2 torch-2.0.1+cu117 torchvision-0.15.2+cu117 transformers-4.30.2 triton-2.0.0 typing-extensions-4.7.1 typing-inspect-0.9.0 xxhash-3.2.0 yarl-1.9.2\n",
      "Python interpreter will be restarted.\n"
     ]
    }
   ],
   "source": [
    "%pip install --upgrade \\\n",
    "    PyMuPDF==1.22.3 faiss-cpu==1.7.4 langchain==0.0.212 sentence-transformers==2.2.2 transformers==4.30.2 pydantic==1.10.9 \\\n",
    "    accelerate==0.20.3 optimum==1.8.8 einops==0.6.1 bitsandbytes==0.39.1 \\\n",
    "    torch==2.0.1 torchvision==0.15.2 --extra-index-url https://download.pytorch.org/whl/cu117"
   ]
  },
  {
   "cell_type": "code",
   "execution_count": null,
   "metadata": {
    "application/vnd.databricks.v1+cell": {
     "cellMetadata": {
      "byteLimit": 2048000,
      "rowLimit": 10000
     },
     "inputWidgets": {},
     "nuid": "5f7b6e1c-0834-4b2a-9c1f-13123bcdb163",
     "showTitle": false,
     "title": ""
    }
   },
   "outputs": [],
   "source": [
    "pdf_folder = \"/Volumes/llm_catalog/retriever_staging/llm_retrieval_pdf\""
   ]
  },
  {
   "cell_type": "markdown",
   "metadata": {
    "application/vnd.databricks.v1+cell": {
     "cellMetadata": {
      "byteLimit": 2048000,
      "rowLimit": 10000
     },
     "inputWidgets": {},
     "nuid": "dace3629-e40a-494a-b416-5c0e36917199",
     "showTitle": false,
     "title": ""
    }
   },
   "source": [
    "# Load all PDF documents"
   ]
  },
  {
   "cell_type": "code",
   "execution_count": null,
   "metadata": {
    "application/vnd.databricks.v1+cell": {
     "cellMetadata": {
      "byteLimit": 2048000,
      "rowLimit": 10000
     },
     "inputWidgets": {},
     "nuid": "b8dc5aa1-ea0a-474c-94c2-5bd9864588c3",
     "showTitle": false,
     "title": ""
    }
   },
   "outputs": [
    {
     "data": {
      "application/vnd.databricks.v1+bamboolib_hint": "{\"pd.DataFrames\": [], \"version\": \"0.0.1\"}",
      "text/plain": []
     },
     "metadata": {},
     "output_type": "display_data"
    },
    {
     "data": {
      "text/html": [
       "<div>\n",
       "<style scoped>\n",
       "    .dataframe tbody tr th:only-of-type {\n",
       "        vertical-align: middle;\n",
       "    }\n",
       "\n",
       "    .dataframe tbody tr th {\n",
       "        vertical-align: top;\n",
       "    }\n",
       "\n",
       "    .dataframe thead th {\n",
       "        text-align: right;\n",
       "    }\n",
       "</style>\n",
       "<table border=\"1\" class=\"dataframe\">\n",
       "  <thead>\n",
       "    <tr style=\"text-align: right;\">\n",
       "      <th></th>\n",
       "      <th>path</th>\n",
       "      <th>name</th>\n",
       "      <th>size</th>\n",
       "      <th>modificationTime</th>\n",
       "      <th>document_pages</th>\n",
       "    </tr>\n",
       "  </thead>\n",
       "  <tbody>\n",
       "    <tr>\n",
       "      <th>1</th>\n",
       "      <td>/Volumes/llm_catalog/retriever_staging/llm_ret...</td>\n",
       "      <td>ES_HFH714_OM.pdf</td>\n",
       "      <td>5400513</td>\n",
       "      <td>1689100139000</td>\n",
       "      <td>page_content='Icon\\nType\\nMeaning\\nWARNING\\nRi...</td>\n",
       "    </tr>\n",
       "    <tr>\n",
       "      <th>2</th>\n",
       "      <td>/Volumes/llm_catalog/retriever_staging/llm_ret...</td>\n",
       "      <td>ES_HFH714_OM.pdf</td>\n",
       "      <td>5400513</td>\n",
       "      <td>1689100139000</td>\n",
       "      <td>page_content='CONTENTS\\n1. SAFETY INSTRUCTIONS...</td>\n",
       "    </tr>\n",
       "    <tr>\n",
       "      <th>3</th>\n",
       "      <td>/Volumes/llm_catalog/retriever_staging/llm_ret...</td>\n",
       "      <td>ES_HFH714_OM.pdf</td>\n",
       "      <td>5400513</td>\n",
       "      <td>1689100139000</td>\n",
       "      <td>page_content='EN - 1\\n1. SAFETY INSTRUCTIONS\\n...</td>\n",
       "    </tr>\n",
       "    <tr>\n",
       "      <th>4</th>\n",
       "      <td>/Volumes/llm_catalog/retriever_staging/llm_ret...</td>\n",
       "      <td>ES_HFH714_OM.pdf</td>\n",
       "      <td>5400513</td>\n",
       "      <td>1689100139000</td>\n",
       "      <td>page_content='EN - 2\\n NOTE: For a softcopy of...</td>\n",
       "    </tr>\n",
       "    <tr>\n",
       "      <th>5</th>\n",
       "      <td>/Volumes/llm_catalog/retriever_staging/llm_ret...</td>\n",
       "      <td>ES_HFH714_OM.pdf</td>\n",
       "      <td>5400513</td>\n",
       "      <td>1689100139000</td>\n",
       "      <td>page_content='EN - 3\\nas a result of quality c...</td>\n",
       "    </tr>\n",
       "    <tr>\n",
       "      <th>6</th>\n",
       "      <td>/Volumes/llm_catalog/retriever_staging/llm_ret...</td>\n",
       "      <td>ES_HFH714_OM.pdf</td>\n",
       "      <td>5400513</td>\n",
       "      <td>1689100139000</td>\n",
       "      <td>page_content='EN - 4\\ninjuries.\\nRISK OF BURNS...</td>\n",
       "    </tr>\n",
       "    <tr>\n",
       "      <th>7</th>\n",
       "      <td>/Volumes/llm_catalog/retriever_staging/llm_ret...</td>\n",
       "      <td>ES_HFH714_OM.pdf</td>\n",
       "      <td>5400513</td>\n",
       "      <td>1689100139000</td>\n",
       "      <td>page_content='EN - 5\\ncorrosion. Never use pai...</td>\n",
       "    </tr>\n",
       "    <tr>\n",
       "      <th>8</th>\n",
       "      <td>/Volumes/llm_catalog/retriever_staging/llm_ret...</td>\n",
       "      <td>ES_HFH714_OM.pdf</td>\n",
       "      <td>5400513</td>\n",
       "      <td>1689100139000</td>\n",
       "      <td>page_content='EN - 6\\n1.2. During Use  \\n•� Ke...</td>\n",
       "    </tr>\n",
       "    <tr>\n",
       "      <th>9</th>\n",
       "      <td>/Volumes/llm_catalog/retriever_staging/llm_ret...</td>\n",
       "      <td>ES_HFH714_OM.pdf</td>\n",
       "      <td>5400513</td>\n",
       "      <td>1689100139000</td>\n",
       "      <td>page_content='EN - 7\\nNOTE: Specifications for...</td>\n",
       "    </tr>\n",
       "    <tr>\n",
       "      <th>10</th>\n",
       "      <td>/Volumes/llm_catalog/retriever_staging/llm_ret...</td>\n",
       "      <td>ES_HFH714_OM.pdf</td>\n",
       "      <td>5400513</td>\n",
       "      <td>1689100139000</td>\n",
       "      <td>page_content='EN - 8\\n2. TECHNICAL SPECIFICATI...</td>\n",
       "    </tr>\n",
       "    <tr>\n",
       "      <th>11</th>\n",
       "      <td>/Volumes/llm_catalog/retriever_staging/llm_ret...</td>\n",
       "      <td>ES_HFH714_OM.pdf</td>\n",
       "      <td>5400513</td>\n",
       "      <td>1689100139000</td>\n",
       "      <td>page_content='EN - 9\\n3. INSTALLATION\\n3.1. Re...</td>\n",
       "    </tr>\n",
       "    <tr>\n",
       "      <th>12</th>\n",
       "      <td>/Volumes/llm_catalog/retriever_staging/llm_ret...</td>\n",
       "      <td>ES_HFH714_OM.pdf</td>\n",
       "      <td>5400513</td>\n",
       "      <td>1689100139000</td>\n",
       "      <td>page_content='EN - 10\\n•�\\nThe mains cord of y...</td>\n",
       "    </tr>\n",
       "    <tr>\n",
       "      <th>13</th>\n",
       "      <td>/Volumes/llm_catalog/retriever_staging/llm_ret...</td>\n",
       "      <td>ES_HFH714_OM.pdf</td>\n",
       "      <td>5400513</td>\n",
       "      <td>1689100139000</td>\n",
       "      <td>page_content='EN - 11\\nusing the supplied new ...</td>\n",
       "    </tr>\n",
       "    <tr>\n",
       "      <th>14</th>\n",
       "      <td>/Volumes/llm_catalog/retriever_staging/llm_ret...</td>\n",
       "      <td>ES_HFH714_OM.pdf</td>\n",
       "      <td>5400513</td>\n",
       "      <td>1689100139000</td>\n",
       "      <td>page_content='EN - 12\\n4.2. Sections\\nMain was...</td>\n",
       "    </tr>\n",
       "    <tr>\n",
       "      <th>15</th>\n",
       "      <td>/Volumes/llm_catalog/retriever_staging/llm_ret...</td>\n",
       "      <td>ES_HFH714_OM.pdf</td>\n",
       "      <td>5400513</td>\n",
       "      <td>1689100139000</td>\n",
       "      <td>page_content='EN - 13\\nwash, \\n \\n rinsing, \\n...</td>\n",
       "    </tr>\n",
       "    <tr>\n",
       "      <th>16</th>\n",
       "      <td>/Volumes/llm_catalog/retriever_staging/llm_ret...</td>\n",
       "      <td>ES_HFH714_OM.pdf</td>\n",
       "      <td>5400513</td>\n",
       "      <td>1689100139000</td>\n",
       "      <td>page_content='EN - 14\\nNOTE: Take care not to ...</td>\n",
       "    </tr>\n",
       "    <tr>\n",
       "      <th>17</th>\n",
       "      <td>/Volumes/llm_catalog/retriever_staging/llm_ret...</td>\n",
       "      <td>ES_HFH714_OM.pdf</td>\n",
       "      <td>5400513</td>\n",
       "      <td>1689100139000</td>\n",
       "      <td>page_content='EN - 15\\nautomatically set the h...</td>\n",
       "    </tr>\n",
       "    <tr>\n",
       "      <th>18</th>\n",
       "      <td>/Volumes/llm_catalog/retriever_staging/llm_ret...</td>\n",
       "      <td>ES_HFH714_OM.pdf</td>\n",
       "      <td>5400513</td>\n",
       "      <td>1689100139000</td>\n",
       "      <td>page_content='EN - 16\\n3. Delay Timer\\nDelay \\...</td>\n",
       "    </tr>\n",
       "    <tr>\n",
       "      <th>19</th>\n",
       "      <td>/Volumes/llm_catalog/retriever_staging/llm_ret...</td>\n",
       "      <td>ES_HFH714_OM.pdf</td>\n",
       "      <td>5400513</td>\n",
       "      <td>1689100139000</td>\n",
       "      <td>page_content='EN - 17\\nTo select this function...</td>\n",
       "    </tr>\n",
       "    <tr>\n",
       "      <th>20</th>\n",
       "      <td>/Volumes/llm_catalog/retriever_staging/llm_ret...</td>\n",
       "      <td>ES_HFH714_OM.pdf</td>\n",
       "      <td>5400513</td>\n",
       "      <td>1689100139000</td>\n",
       "      <td>page_content='EN - 18\\n5.9. Programme End\\nWas...</td>\n",
       "    </tr>\n",
       "    <tr>\n",
       "      <th>21</th>\n",
       "      <td>/Volumes/llm_catalog/retriever_staging/llm_ret...</td>\n",
       "      <td>ES_HFH714_OM.pdf</td>\n",
       "      <td>5400513</td>\n",
       "      <td>1689100139000</td>\n",
       "      <td>page_content='EN - 19\\n6. PROGRAMME TABLE\\nPro...</td>\n",
       "    </tr>\n",
       "    <tr>\n",
       "      <th>22</th>\n",
       "      <td>/Volumes/llm_catalog/retriever_staging/llm_ret...</td>\n",
       "      <td>ES_HFH714_OM.pdf</td>\n",
       "      <td>5400513</td>\n",
       "      <td>1689100139000</td>\n",
       "      <td>page_content='EN - 20\\n7. CLEANING AND \\nMAINT...</td>\n",
       "    </tr>\n",
       "    <tr>\n",
       "      <th>23</th>\n",
       "      <td>/Volumes/llm_catalog/retriever_staging/llm_ret...</td>\n",
       "      <td>ES_HFH714_OM.pdf</td>\n",
       "      <td>5400513</td>\n",
       "      <td>1689100139000</td>\n",
       "      <td>page_content='EN - 21\\n7.3. Pump Filter\\n1\\n3\\...</td>\n",
       "    </tr>\n",
       "    <tr>\n",
       "      <th>24</th>\n",
       "      <td>/Volumes/llm_catalog/retriever_staging/llm_ret...</td>\n",
       "      <td>ES_HFH714_OM.pdf</td>\n",
       "      <td>5400513</td>\n",
       "      <td>1689100139000</td>\n",
       "      <td>page_content='EN - 22\\n8. FLUSH STOPPER \\n/ BO...</td>\n",
       "    </tr>\n",
       "    <tr>\n",
       "      <th>25</th>\n",
       "      <td>/Volumes/llm_catalog/retriever_staging/llm_ret...</td>\n",
       "      <td>ES_HFH714_OM.pdf</td>\n",
       "      <td>5400513</td>\n",
       "      <td>1689100139000</td>\n",
       "      <td>page_content='EN - 23\\n9. TROUBLESHOOTING\\nRep...</td>\n",
       "    </tr>\n",
       "    <tr>\n",
       "      <th>26</th>\n",
       "      <td>/Volumes/llm_catalog/retriever_staging/llm_ret...</td>\n",
       "      <td>ES_HFH714_OM.pdf</td>\n",
       "      <td>5400513</td>\n",
       "      <td>1689100139000</td>\n",
       "      <td>page_content='EN - 24\\nFAULT\\nPOSSIBLE CAUSE\\n...</td>\n",
       "    </tr>\n",
       "    <tr>\n",
       "      <th>27</th>\n",
       "      <td>/Volumes/llm_catalog/retriever_staging/llm_ret...</td>\n",
       "      <td>ES_HFH714_OM.pdf</td>\n",
       "      <td>5400513</td>\n",
       "      <td>1689100139000</td>\n",
       "      <td>page_content='EN - 25\\n11. DESCRIBING THE ENER...</td>\n",
       "    </tr>\n",
       "    <tr>\n",
       "      <th>28</th>\n",
       "      <td>/Volumes/llm_catalog/retriever_staging/llm_ret...</td>\n",
       "      <td>ES_HFH714_OM.pdf</td>\n",
       "      <td>5400513</td>\n",
       "      <td>1689100139000</td>\n",
       "      <td>page_content='EN - 26\\n..........................</td>\n",
       "    </tr>\n",
       "    <tr>\n",
       "      <th>29</th>\n",
       "      <td>/Volumes/llm_catalog/retriever_staging/llm_ret...</td>\n",
       "      <td>ES_HFH714_OM.pdf</td>\n",
       "      <td>5400513</td>\n",
       "      <td>1689100139000</td>\n",
       "      <td>page_content='EN - 27\\n..........................</td>\n",
       "    </tr>\n",
       "    <tr>\n",
       "      <th>30</th>\n",
       "      <td>/Volumes/llm_catalog/retriever_staging/llm_ret...</td>\n",
       "      <td>ES_HFH714_OM.pdf</td>\n",
       "      <td>5400513</td>\n",
       "      <td>1689100139000</td>\n",
       "      <td>page_content='EN - 28\\n..........................</td>\n",
       "    </tr>\n",
       "    <tr>\n",
       "      <th>31</th>\n",
       "      <td>/Volumes/llm_catalog/retriever_staging/llm_ret...</td>\n",
       "      <td>ES_HFH714_OM.pdf</td>\n",
       "      <td>5400513</td>\n",
       "      <td>1689100139000</td>\n",
       "      <td>page_content='52267196\\n' metadata={'source': ...</td>\n",
       "    </tr>\n",
       "  </tbody>\n",
       "</table>\n",
       "</div>"
      ]
     },
     "metadata": {
      "application/vnd.databricks.v1+output": {
       "addedWidgets": {},
       "arguments": {},
       "data": "<div>\n<style scoped>\n    .dataframe tbody tr th:only-of-type {\n        vertical-align: middle;\n    }\n\n    .dataframe tbody tr th {\n        vertical-align: top;\n    }\n\n    .dataframe thead th {\n        text-align: right;\n    }\n</style>\n<table border=\"1\" class=\"dataframe\">\n  <thead>\n    <tr style=\"text-align: right;\">\n      <th></th>\n      <th>path</th>\n      <th>name</th>\n      <th>size</th>\n      <th>modificationTime</th>\n      <th>document_pages</th>\n    </tr>\n  </thead>\n  <tbody>\n    <tr>\n      <th>1</th>\n      <td>/Volumes/llm_catalog/retriever_staging/llm_ret...</td>\n      <td>ES_HFH714_OM.pdf</td>\n      <td>5400513</td>\n      <td>1689100139000</td>\n      <td>page_content='Icon\\nType\\nMeaning\\nWARNING\\nRi...</td>\n    </tr>\n    <tr>\n      <th>2</th>\n      <td>/Volumes/llm_catalog/retriever_staging/llm_ret...</td>\n      <td>ES_HFH714_OM.pdf</td>\n      <td>5400513</td>\n      <td>1689100139000</td>\n      <td>page_content='CONTENTS\\n1. SAFETY INSTRUCTIONS...</td>\n    </tr>\n    <tr>\n      <th>3</th>\n      <td>/Volumes/llm_catalog/retriever_staging/llm_ret...</td>\n      <td>ES_HFH714_OM.pdf</td>\n      <td>5400513</td>\n      <td>1689100139000</td>\n      <td>page_content='EN - 1\\n1. SAFETY INSTRUCTIONS\\n...</td>\n    </tr>\n    <tr>\n      <th>4</th>\n      <td>/Volumes/llm_catalog/retriever_staging/llm_ret...</td>\n      <td>ES_HFH714_OM.pdf</td>\n      <td>5400513</td>\n      <td>1689100139000</td>\n      <td>page_content='EN - 2\\n NOTE: For a softcopy of...</td>\n    </tr>\n    <tr>\n      <th>5</th>\n      <td>/Volumes/llm_catalog/retriever_staging/llm_ret...</td>\n      <td>ES_HFH714_OM.pdf</td>\n      <td>5400513</td>\n      <td>1689100139000</td>\n      <td>page_content='EN - 3\\nas a result of quality c...</td>\n    </tr>\n    <tr>\n      <th>6</th>\n      <td>/Volumes/llm_catalog/retriever_staging/llm_ret...</td>\n      <td>ES_HFH714_OM.pdf</td>\n      <td>5400513</td>\n      <td>1689100139000</td>\n      <td>page_content='EN - 4\\ninjuries.\\nRISK OF BURNS...</td>\n    </tr>\n    <tr>\n      <th>7</th>\n      <td>/Volumes/llm_catalog/retriever_staging/llm_ret...</td>\n      <td>ES_HFH714_OM.pdf</td>\n      <td>5400513</td>\n      <td>1689100139000</td>\n      <td>page_content='EN - 5\\ncorrosion. Never use pai...</td>\n    </tr>\n    <tr>\n      <th>8</th>\n      <td>/Volumes/llm_catalog/retriever_staging/llm_ret...</td>\n      <td>ES_HFH714_OM.pdf</td>\n      <td>5400513</td>\n      <td>1689100139000</td>\n      <td>page_content='EN - 6\\n1.2. During Use  \\n•� Ke...</td>\n    </tr>\n    <tr>\n      <th>9</th>\n      <td>/Volumes/llm_catalog/retriever_staging/llm_ret...</td>\n      <td>ES_HFH714_OM.pdf</td>\n      <td>5400513</td>\n      <td>1689100139000</td>\n      <td>page_content='EN - 7\\nNOTE: Specifications for...</td>\n    </tr>\n    <tr>\n      <th>10</th>\n      <td>/Volumes/llm_catalog/retriever_staging/llm_ret...</td>\n      <td>ES_HFH714_OM.pdf</td>\n      <td>5400513</td>\n      <td>1689100139000</td>\n      <td>page_content='EN - 8\\n2. TECHNICAL SPECIFICATI...</td>\n    </tr>\n    <tr>\n      <th>11</th>\n      <td>/Volumes/llm_catalog/retriever_staging/llm_ret...</td>\n      <td>ES_HFH714_OM.pdf</td>\n      <td>5400513</td>\n      <td>1689100139000</td>\n      <td>page_content='EN - 9\\n3. INSTALLATION\\n3.1. Re...</td>\n    </tr>\n    <tr>\n      <th>12</th>\n      <td>/Volumes/llm_catalog/retriever_staging/llm_ret...</td>\n      <td>ES_HFH714_OM.pdf</td>\n      <td>5400513</td>\n      <td>1689100139000</td>\n      <td>page_content='EN - 10\\n•�\\nThe mains cord of y...</td>\n    </tr>\n    <tr>\n      <th>13</th>\n      <td>/Volumes/llm_catalog/retriever_staging/llm_ret...</td>\n      <td>ES_HFH714_OM.pdf</td>\n      <td>5400513</td>\n      <td>1689100139000</td>\n      <td>page_content='EN - 11\\nusing the supplied new ...</td>\n    </tr>\n    <tr>\n      <th>14</th>\n      <td>/Volumes/llm_catalog/retriever_staging/llm_ret...</td>\n      <td>ES_HFH714_OM.pdf</td>\n      <td>5400513</td>\n      <td>1689100139000</td>\n      <td>page_content='EN - 12\\n4.2. Sections\\nMain was...</td>\n    </tr>\n    <tr>\n      <th>15</th>\n      <td>/Volumes/llm_catalog/retriever_staging/llm_ret...</td>\n      <td>ES_HFH714_OM.pdf</td>\n      <td>5400513</td>\n      <td>1689100139000</td>\n      <td>page_content='EN - 13\\nwash, \\n \\n rinsing, \\n...</td>\n    </tr>\n    <tr>\n      <th>16</th>\n      <td>/Volumes/llm_catalog/retriever_staging/llm_ret...</td>\n      <td>ES_HFH714_OM.pdf</td>\n      <td>5400513</td>\n      <td>1689100139000</td>\n      <td>page_content='EN - 14\\nNOTE: Take care not to ...</td>\n    </tr>\n    <tr>\n      <th>17</th>\n      <td>/Volumes/llm_catalog/retriever_staging/llm_ret...</td>\n      <td>ES_HFH714_OM.pdf</td>\n      <td>5400513</td>\n      <td>1689100139000</td>\n      <td>page_content='EN - 15\\nautomatically set the h...</td>\n    </tr>\n    <tr>\n      <th>18</th>\n      <td>/Volumes/llm_catalog/retriever_staging/llm_ret...</td>\n      <td>ES_HFH714_OM.pdf</td>\n      <td>5400513</td>\n      <td>1689100139000</td>\n      <td>page_content='EN - 16\\n3. Delay Timer\\nDelay \\...</td>\n    </tr>\n    <tr>\n      <th>19</th>\n      <td>/Volumes/llm_catalog/retriever_staging/llm_ret...</td>\n      <td>ES_HFH714_OM.pdf</td>\n      <td>5400513</td>\n      <td>1689100139000</td>\n      <td>page_content='EN - 17\\nTo select this function...</td>\n    </tr>\n    <tr>\n      <th>20</th>\n      <td>/Volumes/llm_catalog/retriever_staging/llm_ret...</td>\n      <td>ES_HFH714_OM.pdf</td>\n      <td>5400513</td>\n      <td>1689100139000</td>\n      <td>page_content='EN - 18\\n5.9. Programme End\\nWas...</td>\n    </tr>\n    <tr>\n      <th>21</th>\n      <td>/Volumes/llm_catalog/retriever_staging/llm_ret...</td>\n      <td>ES_HFH714_OM.pdf</td>\n      <td>5400513</td>\n      <td>1689100139000</td>\n      <td>page_content='EN - 19\\n6. PROGRAMME TABLE\\nPro...</td>\n    </tr>\n    <tr>\n      <th>22</th>\n      <td>/Volumes/llm_catalog/retriever_staging/llm_ret...</td>\n      <td>ES_HFH714_OM.pdf</td>\n      <td>5400513</td>\n      <td>1689100139000</td>\n      <td>page_content='EN - 20\\n7. CLEANING AND \\nMAINT...</td>\n    </tr>\n    <tr>\n      <th>23</th>\n      <td>/Volumes/llm_catalog/retriever_staging/llm_ret...</td>\n      <td>ES_HFH714_OM.pdf</td>\n      <td>5400513</td>\n      <td>1689100139000</td>\n      <td>page_content='EN - 21\\n7.3. Pump Filter\\n1\\n3\\...</td>\n    </tr>\n    <tr>\n      <th>24</th>\n      <td>/Volumes/llm_catalog/retriever_staging/llm_ret...</td>\n      <td>ES_HFH714_OM.pdf</td>\n      <td>5400513</td>\n      <td>1689100139000</td>\n      <td>page_content='EN - 22\\n8. FLUSH STOPPER \\n/ BO...</td>\n    </tr>\n    <tr>\n      <th>25</th>\n      <td>/Volumes/llm_catalog/retriever_staging/llm_ret...</td>\n      <td>ES_HFH714_OM.pdf</td>\n      <td>5400513</td>\n      <td>1689100139000</td>\n      <td>page_content='EN - 23\\n9. TROUBLESHOOTING\\nRep...</td>\n    </tr>\n    <tr>\n      <th>26</th>\n      <td>/Volumes/llm_catalog/retriever_staging/llm_ret...</td>\n      <td>ES_HFH714_OM.pdf</td>\n      <td>5400513</td>\n      <td>1689100139000</td>\n      <td>page_content='EN - 24\\nFAULT\\nPOSSIBLE CAUSE\\n...</td>\n    </tr>\n    <tr>\n      <th>27</th>\n      <td>/Volumes/llm_catalog/retriever_staging/llm_ret...</td>\n      <td>ES_HFH714_OM.pdf</td>\n      <td>5400513</td>\n      <td>1689100139000</td>\n      <td>page_content='EN - 25\\n11. DESCRIBING THE ENER...</td>\n    </tr>\n    <tr>\n      <th>28</th>\n      <td>/Volumes/llm_catalog/retriever_staging/llm_ret...</td>\n      <td>ES_HFH714_OM.pdf</td>\n      <td>5400513</td>\n      <td>1689100139000</td>\n      <td>page_content='EN - 26\\n..........................</td>\n    </tr>\n    <tr>\n      <th>29</th>\n      <td>/Volumes/llm_catalog/retriever_staging/llm_ret...</td>\n      <td>ES_HFH714_OM.pdf</td>\n      <td>5400513</td>\n      <td>1689100139000</td>\n      <td>page_content='EN - 27\\n..........................</td>\n    </tr>\n    <tr>\n      <th>30</th>\n      <td>/Volumes/llm_catalog/retriever_staging/llm_ret...</td>\n      <td>ES_HFH714_OM.pdf</td>\n      <td>5400513</td>\n      <td>1689100139000</td>\n      <td>page_content='EN - 28\\n..........................</td>\n    </tr>\n    <tr>\n      <th>31</th>\n      <td>/Volumes/llm_catalog/retriever_staging/llm_ret...</td>\n      <td>ES_HFH714_OM.pdf</td>\n      <td>5400513</td>\n      <td>1689100139000</td>\n      <td>page_content='52267196\\n' metadata={'source': ...</td>\n    </tr>\n  </tbody>\n</table>\n</div>",
       "datasetInfos": [],
       "metadata": {},
       "removedWidgets": [],
       "textData": null,
       "type": "htmlSandbox"
      }
     },
     "output_type": "display_data"
    }
   ],
   "source": [
    "from langchain.document_loaders import PyMuPDFLoader\n",
    "import os\n",
    "import pandas as pd\n",
    "pdf_files = pd.DataFrame({\"name\": os.listdir(pdf_folder)})\n",
    "pdf_files = pdf_files.assign(\n",
    "    document_pages=pdf_files.name.apply(lambda name: PyMuPDFLoader(os.path.join(pdf_folder, name)).load())\n",
    ")\n",
    "pdf_files = pdf_files.explode(\"document_pages\", ignore_index=True).iloc[1:] # remove first page\n",
    "pdf_files"
   ]
  },
  {
   "cell_type": "code",
   "execution_count": null,
   "metadata": {
    "application/vnd.databricks.v1+cell": {
     "cellMetadata": {
      "byteLimit": 2048000,
      "rowLimit": 10000
     },
     "inputWidgets": {},
     "nuid": "5dc72268-de6f-44da-9278-21e1587e107b",
     "showTitle": false,
     "title": ""
    }
   },
   "outputs": [
    {
     "name": "stdout",
     "output_type": "stream",
     "text": [
      "EN - 20\n",
      "7. CLEANING AND \n",
      "MAINTENANCE\n",
      "7.1. Warning \n",
      "Turn your mains power \n",
      "supply off and remove \n",
      "the plug from the socket \n",
      "before carrying out \n",
      "maintenance and cleaning \n",
      "of your machine.\n",
      "Turn off the water \n",
      "supply before starting \n",
      "maintenance and cleaning \n",
      "of your machine.\n",
      "CAUTION: Do not \n",
      "use solvents, abrasive \n",
      "cleaners, glass cleaners \n",
      "or all-purpose cleaning \n",
      "agents to clean your \n",
      "Washing Machine. They \n",
      "may damage the plastic \n",
      "surfaces and other \n",
      "components with the \n",
      "chemicals they contain.\n",
      "7.2. Water Inlet Filters\n",
      "Water inlet filters prevent dirt and foreign \n",
      "materials from entering your machine. We \n",
      "recommend that these filters are cleaned \n",
      "when your machine is unable to receive \n",
      "sufficient water, although your water supply \n",
      "is on and the tap is open. We recommend \n",
      "that you clean your water inlet filters every \n",
      "2 months.\n",
      "•�\n",
      "Unscrew the water inlet hose(s) from \n",
      "the Washing Machine.\n",
      "•�\n",
      "To remove the water inlet filter from the \n",
      "water inlet valve, use a pair of long-\n",
      "nosed pliers to gently pull on the plastic \n",
      "bar in the filter.\n",
      "•�\n",
      "A second water inlet filter is located in \n",
      "the tap end of the water inlet hose. To \n",
      "remove the second water inlet filter, use \n",
      "a pair of long-nosed pliers to gently pull \n",
      "on the plastic bar in the filter. \n",
      "•�\n",
      "Clean the filter thoroughly with a soft \n",
      "brush and wash with soapy water and \n",
      "rinse thoroughly. Re-insert the filter by \n",
      "gently pushing it back into place.\n",
      "CAUTION: The filters at the water inlet \n",
      "valve may become clogged due to water \n",
      "quality or lack of required maintenance and \n",
      "may break down. This may cause a water \n",
      "leak. Any such breakdowns are out of the \n",
      "scope of the warranty.\n",
      "\n"
     ]
    }
   ],
   "source": [
    "print(pdf_files.loc[22].document_pages.page_content)"
   ]
  },
  {
   "cell_type": "markdown",
   "metadata": {
    "application/vnd.databricks.v1+cell": {
     "cellMetadata": {
      "byteLimit": 2048000,
      "rowLimit": 10000
     },
     "inputWidgets": {},
     "nuid": "ba834b3c-0b3b-4a0e-a304-6423aec32fcb",
     "showTitle": false,
     "title": ""
    }
   },
   "source": [
    "# Chunk and tokenize"
   ]
  },
  {
   "cell_type": "code",
   "execution_count": null,
   "metadata": {
    "application/vnd.databricks.v1+cell": {
     "cellMetadata": {
      "byteLimit": 2048000,
      "rowLimit": 10000
     },
     "inputWidgets": {},
     "nuid": "28f6c3df-3552-4510-a870-ff469e86c34a",
     "showTitle": false,
     "title": ""
    }
   },
   "outputs": [
    {
     "data": {
      "application/vnd.jupyter.widget-view+json": {
       "model_id": "07943253dcdc42769a1b97cb34bcaf39",
       "version_major": 2,
       "version_minor": 0
      },
      "text/plain": [
       "Downloading (…)okenizer_config.json:   0%|          | 0.00/363 [00:00<?, ?B/s]"
      ]
     },
     "metadata": {},
     "output_type": "display_data"
    },
    {
     "data": {
      "application/vnd.jupyter.widget-view+json": {
       "model_id": "873564a15c2c416792a004f63806a0c5",
       "version_major": 2,
       "version_minor": 0
      },
      "text/plain": [
       "Downloading (…)solve/main/vocab.txt:   0%|          | 0.00/232k [00:00<?, ?B/s]"
      ]
     },
     "metadata": {},
     "output_type": "display_data"
    },
    {
     "data": {
      "application/vnd.jupyter.widget-view+json": {
       "model_id": "2c8dcb82e0364773a435fc9c76799e30",
       "version_major": 2,
       "version_minor": 0
      },
      "text/plain": [
       "Downloading (…)/main/tokenizer.json:   0%|          | 0.00/466k [00:00<?, ?B/s]"
      ]
     },
     "metadata": {},
     "output_type": "display_data"
    },
    {
     "data": {
      "application/vnd.jupyter.widget-view+json": {
       "model_id": "1d73d73f4ec546c3bbeca74617b25b7b",
       "version_major": 2,
       "version_minor": 0
      },
      "text/plain": [
       "Downloading (…)cial_tokens_map.json:   0%|          | 0.00/239 [00:00<?, ?B/s]"
      ]
     },
     "metadata": {},
     "output_type": "display_data"
    },
    {
     "name": "stderr",
     "output_type": "stream",
     "text": [
      "Token indices sequence length is longer than the specified maximum sequence length for this model (3937 > 512). Running this sequence through the model will result in indexing errors\n"
     ]
    },
    {
     "data": {
      "application/vnd.jupyter.widget-view+json": {
       "model_id": "1edf280254554d83b74ce9a21be8f343",
       "version_major": 2,
       "version_minor": 0
      },
      "text/plain": [
       "Downloading (…)16ebc/.gitattributes:   0%|          | 0.00/737 [00:00<?, ?B/s]"
      ]
     },
     "metadata": {},
     "output_type": "display_data"
    },
    {
     "data": {
      "application/vnd.jupyter.widget-view+json": {
       "model_id": "51e9fc7706ce4c2d89b49f9bddbb2667",
       "version_major": 2,
       "version_minor": 0
      },
      "text/plain": [
       "Downloading (…)_Pooling/config.json:   0%|          | 0.00/190 [00:00<?, ?B/s]"
      ]
     },
     "metadata": {},
     "output_type": "display_data"
    },
    {
     "data": {
      "application/vnd.jupyter.widget-view+json": {
       "model_id": "d58efde068bd4f5a9cd85984381710f1",
       "version_major": 2,
       "version_minor": 0
      },
      "text/plain": [
       "Downloading (…)b6b5d16ebc/README.md:   0%|          | 0.00/8.65k [00:00<?, ?B/s]"
      ]
     },
     "metadata": {},
     "output_type": "display_data"
    },
    {
     "data": {
      "application/vnd.jupyter.widget-view+json": {
       "model_id": "39435f6ee62c404598999d21edbf77d6",
       "version_major": 2,
       "version_minor": 0
      },
      "text/plain": [
       "Downloading (…)b5d16ebc/config.json:   0%|          | 0.00/571 [00:00<?, ?B/s]"
      ]
     },
     "metadata": {},
     "output_type": "display_data"
    },
    {
     "data": {
      "application/vnd.jupyter.widget-view+json": {
       "model_id": "bd4f371a1f0e4eb79f77a83358e16958",
       "version_major": 2,
       "version_minor": 0
      },
      "text/plain": [
       "Downloading (…)ce_transformers.json:   0%|          | 0.00/116 [00:00<?, ?B/s]"
      ]
     },
     "metadata": {},
     "output_type": "display_data"
    },
    {
     "data": {
      "application/vnd.jupyter.widget-view+json": {
       "model_id": "82732869cfeb472ab055dd1d1fcddea9",
       "version_major": 2,
       "version_minor": 0
      },
      "text/plain": [
       "Downloading (…)ebc/data_config.json:   0%|          | 0.00/25.5k [00:00<?, ?B/s]"
      ]
     },
     "metadata": {},
     "output_type": "display_data"
    },
    {
     "data": {
      "application/vnd.jupyter.widget-view+json": {
       "model_id": "205e31a083a04c98a705c4ca20f54a41",
       "version_major": 2,
       "version_minor": 0
      },
      "text/plain": [
       "Downloading pytorch_model.bin:   0%|          | 0.00/438M [00:00<?, ?B/s]"
      ]
     },
     "metadata": {},
     "output_type": "display_data"
    },
    {
     "data": {
      "application/vnd.jupyter.widget-view+json": {
       "model_id": "8308a5b881234579948d04f6f6e291d7",
       "version_major": 2,
       "version_minor": 0
      },
      "text/plain": [
       "Downloading (…)nce_bert_config.json:   0%|          | 0.00/53.0 [00:00<?, ?B/s]"
      ]
     },
     "metadata": {},
     "output_type": "display_data"
    },
    {
     "data": {
      "application/vnd.jupyter.widget-view+json": {
       "model_id": "375bd7eee9e34cb09b57504412a4f946",
       "version_major": 2,
       "version_minor": 0
      },
      "text/plain": [
       "Downloading (…)cial_tokens_map.json:   0%|          | 0.00/239 [00:00<?, ?B/s]"
      ]
     },
     "metadata": {},
     "output_type": "display_data"
    },
    {
     "data": {
      "application/vnd.jupyter.widget-view+json": {
       "model_id": "9bdd1aa4f55e43049c921f544b0a749c",
       "version_major": 2,
       "version_minor": 0
      },
      "text/plain": [
       "Downloading (…)16ebc/tokenizer.json:   0%|          | 0.00/466k [00:00<?, ?B/s]"
      ]
     },
     "metadata": {},
     "output_type": "display_data"
    },
    {
     "data": {
      "application/vnd.jupyter.widget-view+json": {
       "model_id": "acf70a3423c6497ead2835c8bc9bee96",
       "version_major": 2,
       "version_minor": 0
      },
      "text/plain": [
       "Downloading (…)okenizer_config.json:   0%|          | 0.00/363 [00:00<?, ?B/s]"
      ]
     },
     "metadata": {},
     "output_type": "display_data"
    },
    {
     "data": {
      "application/vnd.jupyter.widget-view+json": {
       "model_id": "6a8a7f4cd2c04d80ab09145bc1188629",
       "version_major": 2,
       "version_minor": 0
      },
      "text/plain": [
       "Downloading (…)6ebc/train_script.py:   0%|          | 0.00/13.9k [00:00<?, ?B/s]"
      ]
     },
     "metadata": {},
     "output_type": "display_data"
    },
    {
     "data": {
      "application/vnd.jupyter.widget-view+json": {
       "model_id": "2de631f6b89842eea11135f23040b38e",
       "version_major": 2,
       "version_minor": 0
      },
      "text/plain": [
       "Downloading (…)b6b5d16ebc/vocab.txt:   0%|          | 0.00/232k [00:00<?, ?B/s]"
      ]
     },
     "metadata": {},
     "output_type": "display_data"
    },
    {
     "data": {
      "application/vnd.jupyter.widget-view+json": {
       "model_id": "d72b0a7a40de473189c546723459f30f",
       "version_major": 2,
       "version_minor": 0
      },
      "text/plain": [
       "Downloading (…)5d16ebc/modules.json:   0%|          | 0.00/229 [00:00<?, ?B/s]"
      ]
     },
     "metadata": {},
     "output_type": "display_data"
    }
   ],
   "source": [
    "from langchain.embeddings import HuggingFaceEmbeddings\n",
    "from langchain.text_splitter import CharacterTextSplitter\n",
    "from langchain.vectorstores import FAISS\n",
    "from transformers import AutoTokenizer\n",
    "\n",
    "embedding_model_name = \"sentence-transformers/multi-qa-mpnet-base-dot-v1\"\n",
    "model_kwargs = {'device': 'cpu'}\n",
    "documents = pdf_files.document_pages.to_list()\n",
    "tokenizer = AutoTokenizer.from_pretrained(embedding_model_name)\n",
    "text_splitter = CharacterTextSplitter.from_huggingface_tokenizer(tokenizer, chunk_size=512, chunk_overlap=64)\n",
    "docs = text_splitter.split_documents(documents)\n",
    "embeddings = HuggingFaceEmbeddings(model_name=embedding_model_name, model_kwargs=model_kwargs)"
   ]
  },
  {
   "cell_type": "markdown",
   "metadata": {
    "application/vnd.databricks.v1+cell": {
     "cellMetadata": {
      "byteLimit": 2048000,
      "rowLimit": 10000
     },
     "inputWidgets": {},
     "nuid": "92873c5a-e446-41d3-a27c-df197e6f4300",
     "showTitle": false,
     "title": ""
    }
   },
   "source": [
    "# Create Index"
   ]
  },
  {
   "cell_type": "code",
   "execution_count": null,
   "metadata": {
    "application/vnd.databricks.v1+cell": {
     "cellMetadata": {
      "byteLimit": 2048000,
      "rowLimit": 10000
     },
     "inputWidgets": {},
     "nuid": "17f96eb4-139a-46b5-9ddf-52d0391eefd1",
     "showTitle": false,
     "title": ""
    }
   },
   "outputs": [],
   "source": [
    "db = FAISS.from_documents(docs, embeddings)"
   ]
  },
  {
   "cell_type": "markdown",
   "metadata": {
    "application/vnd.databricks.v1+cell": {
     "cellMetadata": {
      "byteLimit": 2048000,
      "rowLimit": 10000
     },
     "inputWidgets": {},
     "nuid": "5c11e0ea-5d4f-42ea-ae4b-e15afa6e0d5e",
     "showTitle": false,
     "title": ""
    }
   },
   "source": [
    "# RetrieverQA"
   ]
  },
  {
   "cell_type": "code",
   "execution_count": null,
   "metadata": {
    "application/vnd.databricks.v1+cell": {
     "cellMetadata": {
      "byteLimit": 2048000,
      "rowLimit": 10000
     },
     "inputWidgets": {},
     "nuid": "e08431c1-1291-4086-9c60-eb7653cb2afe",
     "showTitle": false,
     "title": ""
    }
   },
   "outputs": [],
   "source": [
    "retriever = db.as_retriever()"
   ]
  },
  {
   "cell_type": "code",
   "execution_count": null,
   "metadata": {
    "application/vnd.databricks.v1+cell": {
     "cellMetadata": {
      "byteLimit": 2048000,
      "rowLimit": 10000
     },
     "inputWidgets": {},
     "nuid": "3a1bc75b-1258-4c2e-8c72-5e389276fb18",
     "showTitle": false,
     "title": ""
    }
   },
   "outputs": [
    {
     "data": {
      "application/vnd.jupyter.widget-view+json": {
       "model_id": "7b592bfc27c64b529bf545fcfe9afc34",
       "version_major": 2,
       "version_minor": 0
      },
      "text/plain": [
       "Downloading (…)okenizer_config.json:   0%|          | 0.00/220 [00:00<?, ?B/s]"
      ]
     },
     "metadata": {},
     "output_type": "display_data"
    },
    {
     "data": {
      "application/vnd.jupyter.widget-view+json": {
       "model_id": "b0f7851ea23347b89e95c558083853bb",
       "version_major": 2,
       "version_minor": 0
      },
      "text/plain": [
       "Downloading (…)/main/tokenizer.json:   0%|          | 0.00/2.73M [00:00<?, ?B/s]"
      ]
     },
     "metadata": {},
     "output_type": "display_data"
    },
    {
     "data": {
      "application/vnd.jupyter.widget-view+json": {
       "model_id": "732ff9edfeef45aaa1bcad34d130e3cd",
       "version_major": 2,
       "version_minor": 0
      },
      "text/plain": [
       "Downloading (…)cial_tokens_map.json:   0%|          | 0.00/281 [00:00<?, ?B/s]"
      ]
     },
     "metadata": {},
     "output_type": "display_data"
    },
    {
     "data": {
      "application/vnd.jupyter.widget-view+json": {
       "model_id": "8517304f5e254847931b0337d2fdf555",
       "version_major": 2,
       "version_minor": 0
      },
      "text/plain": [
       "Downloading (…)lve/main/config.json:   0%|          | 0.00/658 [00:00<?, ?B/s]"
      ]
     },
     "metadata": {},
     "output_type": "display_data"
    },
    {
     "data": {
      "application/vnd.jupyter.widget-view+json": {
       "model_id": "90fd0640af5543ba9e0477187d18316f",
       "version_major": 2,
       "version_minor": 0
      },
      "text/plain": [
       "Downloading (…)/configuration_RW.py:   0%|          | 0.00/2.51k [00:00<?, ?B/s]"
      ]
     },
     "metadata": {},
     "output_type": "display_data"
    },
    {
     "name": "stderr",
     "output_type": "stream",
     "text": [
      "A new version of the following files was downloaded from https://huggingface.co/tiiuae/falcon-40b-instruct:\n",
      "- configuration_RW.py\n",
      ". Make sure to double-check they do not contain any added malicious code. To avoid downloading new versions of the code file, you can pin a revision.\n"
     ]
    },
    {
     "data": {
      "application/vnd.jupyter.widget-view+json": {
       "model_id": "781c84997a29438c9ec3575bb3459d10",
       "version_major": 2,
       "version_minor": 0
      },
      "text/plain": [
       "Downloading (…)main/modelling_RW.py:   0%|          | 0.00/47.1k [00:00<?, ?B/s]"
      ]
     },
     "metadata": {},
     "output_type": "display_data"
    },
    {
     "name": "stderr",
     "output_type": "stream",
     "text": [
      "A new version of the following files was downloaded from https://huggingface.co/tiiuae/falcon-40b-instruct:\n",
      "- modelling_RW.py\n",
      ". Make sure to double-check they do not contain any added malicious code. To avoid downloading new versions of the code file, you can pin a revision.\n"
     ]
    },
    {
     "data": {
      "application/vnd.jupyter.widget-view+json": {
       "model_id": "e53336bde4534812a140d54b7587a123",
       "version_major": 2,
       "version_minor": 0
      },
      "text/plain": [
       "Downloading (…)model.bin.index.json:   0%|          | 0.00/39.3k [00:00<?, ?B/s]"
      ]
     },
     "metadata": {},
     "output_type": "display_data"
    },
    {
     "data": {
      "application/vnd.jupyter.widget-view+json": {
       "model_id": "6af5f3357c9e4875baa96a0346fed9b8",
       "version_major": 2,
       "version_minor": 0
      },
      "text/plain": [
       "Downloading shards:   0%|          | 0/9 [00:00<?, ?it/s]"
      ]
     },
     "metadata": {},
     "output_type": "display_data"
    },
    {
     "data": {
      "application/vnd.jupyter.widget-view+json": {
       "model_id": "ca9aff22e69546c99e10947cab5f6423",
       "version_major": 2,
       "version_minor": 0
      },
      "text/plain": [
       "Downloading (…)l-00001-of-00009.bin:   0%|          | 0.00/9.50G [00:00<?, ?B/s]"
      ]
     },
     "metadata": {},
     "output_type": "display_data"
    },
    {
     "data": {
      "application/vnd.jupyter.widget-view+json": {
       "model_id": "ed557865f38548babd979c9413f3f112",
       "version_major": 2,
       "version_minor": 0
      },
      "text/plain": [
       "Downloading (…)l-00002-of-00009.bin:   0%|          | 0.00/9.51G [00:00<?, ?B/s]"
      ]
     },
     "metadata": {},
     "output_type": "display_data"
    },
    {
     "data": {
      "application/vnd.jupyter.widget-view+json": {
       "model_id": "265d8ab9acb44bf7a6c5d4507696fe7c",
       "version_major": 2,
       "version_minor": 0
      },
      "text/plain": [
       "Downloading (…)l-00003-of-00009.bin:   0%|          | 0.00/9.51G [00:00<?, ?B/s]"
      ]
     },
     "metadata": {},
     "output_type": "display_data"
    },
    {
     "data": {
      "application/vnd.jupyter.widget-view+json": {
       "model_id": "eb58df882c754562b9ecb6720f4ae43f",
       "version_major": 2,
       "version_minor": 0
      },
      "text/plain": [
       "Downloading (…)l-00004-of-00009.bin:   0%|          | 0.00/9.51G [00:00<?, ?B/s]"
      ]
     },
     "metadata": {},
     "output_type": "display_data"
    },
    {
     "data": {
      "application/vnd.jupyter.widget-view+json": {
       "model_id": "f719fb80c80a49dc9997568c8d584b44",
       "version_major": 2,
       "version_minor": 0
      },
      "text/plain": [
       "Downloading (…)l-00005-of-00009.bin:   0%|          | 0.00/9.51G [00:00<?, ?B/s]"
      ]
     },
     "metadata": {},
     "output_type": "display_data"
    },
    {
     "data": {
      "application/vnd.jupyter.widget-view+json": {
       "model_id": "6bf244327fe44fac838b423feeed5edf",
       "version_major": 2,
       "version_minor": 0
      },
      "text/plain": [
       "Downloading (…)l-00006-of-00009.bin:   0%|          | 0.00/9.51G [00:00<?, ?B/s]"
      ]
     },
     "metadata": {},
     "output_type": "display_data"
    },
    {
     "data": {
      "application/vnd.jupyter.widget-view+json": {
       "model_id": "d853f8c333f2455a975a82d1f9264ee9",
       "version_major": 2,
       "version_minor": 0
      },
      "text/plain": [
       "Downloading (…)l-00007-of-00009.bin:   0%|          | 0.00/9.51G [00:00<?, ?B/s]"
      ]
     },
     "metadata": {},
     "output_type": "display_data"
    },
    {
     "data": {
      "application/vnd.jupyter.widget-view+json": {
       "model_id": "23dffb96b73a4b4884e0410fa1819a99",
       "version_major": 2,
       "version_minor": 0
      },
      "text/plain": [
       "Downloading (…)l-00008-of-00009.bin:   0%|          | 0.00/9.51G [00:00<?, ?B/s]"
      ]
     },
     "metadata": {},
     "output_type": "display_data"
    },
    {
     "data": {
      "application/vnd.jupyter.widget-view+json": {
       "model_id": "f436bb2588354f03b18bc5ae06f87e00",
       "version_major": 2,
       "version_minor": 0
      },
      "text/plain": [
       "Downloading (…)l-00009-of-00009.bin:   0%|          | 0.00/7.58G [00:00<?, ?B/s]"
      ]
     },
     "metadata": {},
     "output_type": "display_data"
    },
    {
     "name": "stdout",
     "output_type": "stream",
     "text": [
      "\n",
      "===================================BUG REPORT===================================\n",
      "Welcome to bitsandbytes. For bug reports, please run\n",
      "\n",
      "python -m bitsandbytes\n",
      "\n",
      " and submit this information together with your error trace to: https://github.com/TimDettmers/bitsandbytes/issues\n",
      "================================================================================\n",
      "bin /local_disk0/.ephemeral_nfs/envs/pythonEnv-93dba16f-79e5-49c7-917d-a5254d8bb7b4/lib/python3.9/site-packages/bitsandbytes/libbitsandbytes_cuda113.so\n",
      "CUDA_SETUP: WARNING! libcudart.so not found in any environmental path. Searching in backup paths...\n",
      "CUDA SETUP: CUDA runtime path found: /usr/local/cuda/lib64/libcudart.so\n",
      "CUDA SETUP: Highest compute capability among GPUs detected: 7.5\n",
      "CUDA SETUP: Detected CUDA version 113\n",
      "CUDA SETUP: Loading binary /local_disk0/.ephemeral_nfs/envs/pythonEnv-93dba16f-79e5-49c7-917d-a5254d8bb7b4/lib/python3.9/site-packages/bitsandbytes/libbitsandbytes_cuda113.so...\n"
     ]
    },
    {
     "name": "stderr",
     "output_type": "stream",
     "text": [
      "/local_disk0/.ephemeral_nfs/envs/pythonEnv-93dba16f-79e5-49c7-917d-a5254d8bb7b4/lib/python3.9/site-packages/bitsandbytes/cuda_setup/main.py:149: UserWarning: WARNING: The following directories listed in your path were found to be non-existent: {PosixPath('http'), PosixPath('/usr/lib/x86_64-linux-gnu/jni'), PosixPath('gc -Xss4m -Djava.library.path=/usr/java/packages/lib/amd64'), PosixPath(' -Djava.io.tmpdir=/local_disk0/tmp -XX'), PosixPath('//www.w3.org/2001/XMLSchema=com.sun.org.apache.xerces.internal.jaxp.validation.XMLSchemaFactory -Dorg.xml.sax.driver=com.sun.org.apache.xerces.internal.parsers.SAXParser -Dorg.w3c.dom.DOMImplementationSourceList=com.sun.org.apache.xerces.internal.dom.DOMXSImplementationSourceImpl -Djavax.net.ssl.sessionCacheSize=10000 -Dscala.reflect.runtime.disable.typetag.cache=true -Dcom.google.cloud.spark.bigquery.repackaged.io.netty.tryReflectionSetAccessible=true -Dlog4j2.formatMsgNoLookups=true  -Ddatabricks.serviceName=spark-executor-1\" -Dspark.executor.memory=345795m -Dspark.executor.extraClassPath=/databricks/spark/dbconf/log4j/executor'), PosixPath('//www.w3.org/2001/XMLSchema=com.sun.org.apache.xerces.internal.jaxp.validation.XMLSchemaFactory -Dorg.xml.sax.driver=com.sun.org.apache.xerces.internal.parsers.SAXParser -Dorg.w3c.dom.DOMImplementationSourceList=com.sun.org.apache.xerces.internal.dom.DOMXSImplementationSourceImpl -Djavax.net.ssl.sessionCacheSize=10000 -Dscala.reflect.runtime.disable.typetag.cache=true -Dcom.google.cloud.spark.bigquery.repackaged.io.netty.tryReflectionSetAccessible=true -Dlog4j2.formatMsgNoLookups=true  -Ddatabricks.serviceName=driver-1 -Xms344771m -Xmx344771m -Dspark.ui.port=40001 -Dspark.executor.extraJavaOptions=\"-Djava.io.tmpdir=/local_disk0/tmp -XX'), PosixPath('PerMethodRecompilationCutoff=-1 -XX'), PosixPath('+UseCodeCacheFlushing -XX'), PosixPath('-UseContainerSupport -XX'), PosixPath('/usr/lib/jni -Djavax.xml.datatype.DatatypeFactory=com.sun.org.apache.xerces.internal.jaxp.datatype.DatatypeFactoryImpl -Djavax.xml.parsers.DocumentBuilderFactory=com.sun.org.apache.xerces.internal.jaxp.DocumentBuilderFactoryImpl -Djavax.xml.parsers.SAXParserFactory=com.sun.org.apache.xerces.internal.jaxp.SAXParserFactoryImpl -Djavax.xml.validation.SchemaFactory'), PosixPath('-OmitStackTraceInFastThrow -Djava.security.properties=/databricks/spark/dbconf/java/extra.security -XX'), PosixPath('ReservedCodeCacheSize=512m -XX'), PosixPath('+PrintGCDetails -verbose'), PosixPath('+PrintFlagsFinal -XX'), PosixPath('PerBytecodeRecompilationCutoff=-1 -Djava.security.properties=/databricks/spark/dbconf/java/extra.security -XX'), PosixPath('/databricks/jars/*'), PosixPath('+PrintGCDateStamps -XX')}\n",
      "  warn(msg)\n",
      "/local_disk0/.ephemeral_nfs/envs/pythonEnv-93dba16f-79e5-49c7-917d-a5254d8bb7b4/lib/python3.9/site-packages/bitsandbytes/cuda_setup/main.py:149: UserWarning: WARNING: The following directories listed in your path were found to be non-existent: {PosixPath('-/home/ubuntu/databricks}/spark/scripts/start_chauffeur.sh /tmp/chauffeur-env.sh'), PosixPath('/usr/bin/lxc-attach -n 0519-194754-8hnu9evr_10_39_189_13 -- env DB_HOME=/databricks CLUSTER_DB_HOME=/databricks bash -l -c bash ${DB_HOME')}\n",
      "  warn(msg)\n",
      "/local_disk0/.ephemeral_nfs/envs/pythonEnv-93dba16f-79e5-49c7-917d-a5254d8bb7b4/lib/python3.9/site-packages/bitsandbytes/cuda_setup/main.py:149: UserWarning: WARNING: The following directories listed in your path were found to be non-existent: {PosixPath('/home/ubuntu/hive-0.9.0-bin')}\n",
      "  warn(msg)\n",
      "/local_disk0/.ephemeral_nfs/envs/pythonEnv-93dba16f-79e5-49c7-917d-a5254d8bb7b4/lib/python3.9/site-packages/bitsandbytes/cuda_setup/main.py:149: UserWarning: WARNING: The following directories listed in your path were found to be non-existent: {PosixPath('/WSFS_NOTEBOOK_DIR')}\n",
      "  warn(msg)\n",
      "/local_disk0/.ephemeral_nfs/envs/pythonEnv-93dba16f-79e5-49c7-917d-a5254d8bb7b4/lib/python3.9/site-packages/bitsandbytes/cuda_setup/main.py:149: UserWarning: WARNING: The following directories listed in your path were found to be non-existent: {PosixPath('/databricks/jars/*')}\n",
      "  warn(msg)\n",
      "/local_disk0/.ephemeral_nfs/envs/pythonEnv-93dba16f-79e5-49c7-917d-a5254d8bb7b4/lib/python3.9/site-packages/bitsandbytes/cuda_setup/main.py:149: UserWarning: Found duplicate ['libcudart.so', 'libcudart.so.11.0', 'libcudart.so.12.0'] files: {PosixPath('/usr/local/cuda/lib64/libcudart.so'), PosixPath('/usr/local/cuda/lib64/libcudart.so.11.0')}.. We'll flip a coin and try one of these, in order to fail forward.\n",
      "Either way, this might cause trouble in the future:\n",
      "If you get `CUDA error: invalid device function` errors, the above might be the cause and the solution is to make sure only one ['libcudart.so', 'libcudart.so.11.0', 'libcudart.so.12.0'] in the paths that we search based on your env.\n",
      "  warn(msg)\n"
     ]
    },
    {
     "data": {
      "application/vnd.jupyter.widget-view+json": {
       "model_id": "3190d2556f4c4134a24df13ca864d5f8",
       "version_major": 2,
       "version_minor": 0
      },
      "text/plain": [
       "Loading checkpoint shards:   0%|          | 0/9 [00:00<?, ?it/s]"
      ]
     },
     "metadata": {},
     "output_type": "display_data"
    },
    {
     "data": {
      "application/vnd.jupyter.widget-view+json": {
       "model_id": "439e14e32f1a45b7b320f8108213bfe5",
       "version_major": 2,
       "version_minor": 0
      },
      "text/plain": [
       "Downloading (…)neration_config.json:   0%|          | 0.00/111 [00:00<?, ?B/s]"
      ]
     },
     "metadata": {},
     "output_type": "display_data"
    },
    {
     "name": "stderr",
     "output_type": "stream",
     "text": [
      "Xformers is not installed correctly. If you want to use memory_efficient_attention to accelerate training use the following command to install Xformers\n",
      "pip install xformers.\n",
      "The model 'RWForCausalLM' is not supported for text-generation. Supported models are ['BartForCausalLM', 'BertLMHeadModel', 'BertGenerationDecoder', 'BigBirdForCausalLM', 'BigBirdPegasusForCausalLM', 'BioGptForCausalLM', 'BlenderbotForCausalLM', 'BlenderbotSmallForCausalLM', 'BloomForCausalLM', 'CamembertForCausalLM', 'CodeGenForCausalLM', 'CpmAntForCausalLM', 'CTRLLMHeadModel', 'Data2VecTextForCausalLM', 'ElectraForCausalLM', 'ErnieForCausalLM', 'GitForCausalLM', 'GPT2LMHeadModel', 'GPT2LMHeadModel', 'GPTBigCodeForCausalLM', 'GPTNeoForCausalLM', 'GPTNeoXForCausalLM', 'GPTNeoXJapaneseForCausalLM', 'GPTJForCausalLM', 'LlamaForCausalLM', 'MarianForCausalLM', 'MBartForCausalLM', 'MegaForCausalLM', 'MegatronBertForCausalLM', 'MvpForCausalLM', 'OpenLlamaForCausalLM', 'OpenAIGPTLMHeadModel', 'OPTForCausalLM', 'PegasusForCausalLM', 'PLBartForCausalLM', 'ProphetNetForCausalLM', 'QDQBertLMHeadModel', 'ReformerModelWithLMHead', 'RemBertForCausalLM', 'RobertaForCausalLM', 'RobertaPreLayerNormForCausalLM', 'RoCBertForCausalLM', 'RoFormerForCausalLM', 'RwkvForCausalLM', 'Speech2Text2ForCausalLM', 'TransfoXLLMHeadModel', 'TrOCRForCausalLM', 'XGLMForCausalLM', 'XLMWithLMHeadModel', 'XLMProphetNetForCausalLM', 'XLMRobertaForCausalLM', 'XLMRobertaXLForCausalLM', 'XLNetLMHeadModel', 'XmodForCausalLM'].\n"
     ]
    }
   ],
   "source": [
    "import torch\n",
    "from transformers import AutoTokenizer, pipeline, AutoModelForCausalLM\n",
    "\n",
    "model_id = \"tiiuae/falcon-40b-instruct\"\n",
    "\n",
    "tokenizer = AutoTokenizer.from_pretrained(model_id)\n",
    "model = AutoModelForCausalLM.from_pretrained(\n",
    "    model_id, \n",
    "    load_in_8bit=True,\n",
    "    trust_remote_code=True,\n",
    "    device_map=\"auto\"\n",
    ")\n",
    "generate_text = pipeline(\n",
    "    \"text-generation\",\n",
    "    model=model,\n",
    "    tokenizer=tokenizer,\n",
    "    max_new_tokens=256, do_sample=True, top_p=0.95, top_k=0\n",
    ")"
   ]
  },
  {
   "cell_type": "code",
   "execution_count": null,
   "metadata": {
    "application/vnd.databricks.v1+cell": {
     "cellMetadata": {
      "byteLimit": 2048000,
      "rowLimit": 10000
     },
     "inputWidgets": {},
     "nuid": "88236b34-2bc4-45c4-a7c2-4fef5f20c7ae",
     "showTitle": false,
     "title": ""
    }
   },
   "outputs": [
    {
     "name": "stderr",
     "output_type": "stream",
     "text": [
      "/local_disk0/.ephemeral_nfs/envs/pythonEnv-93dba16f-79e5-49c7-917d-a5254d8bb7b4/lib/python3.9/site-packages/transformers/generation/utils.py:1259: UserWarning: You have modified the pretrained model configuration to control generation. This is a deprecated strategy to control generation and will be removed soon, in a future version. Please use a generation configuration file (see https://huggingface.co/docs/transformers/main_classes/text_generation)\n",
      "  warnings.warn(\n",
      "Setting `pad_token_id` to `eos_token_id`:11 for open-end generation.\n"
     ]
    },
    {
     "name": "stdout",
     "output_type": "stream",
     "text": [
      "Out[8]: [{'generated_text': 'Q: What is the largest animal, be factual?\\nA: The largest animal is the blue whale, which can grow up to 100 feet in length and weigh as much as 200 tons.'}]"
     ]
    }
   ],
   "source": [
    "generate_text(\"Q: What is the largest animal, be factual?\\nA:\")"
   ]
  },
  {
   "cell_type": "code",
   "execution_count": null,
   "metadata": {
    "application/vnd.databricks.v1+cell": {
     "cellMetadata": {
      "byteLimit": 2048000,
      "rowLimit": 10000
     },
     "inputWidgets": {},
     "nuid": "f4bfef55-a305-42a6-ba8b-bbbcd1936c6b",
     "showTitle": false,
     "title": ""
    }
   },
   "outputs": [],
   "source": [
    "from langchain.llms import HuggingFacePipeline\n",
    "hf = HuggingFacePipeline(pipeline=generate_text)"
   ]
  },
  {
   "cell_type": "code",
   "execution_count": null,
   "metadata": {
    "application/vnd.databricks.v1+cell": {
     "cellMetadata": {
      "byteLimit": 2048000,
      "rowLimit": 10000
     },
     "inputWidgets": {},
     "nuid": "eb38cb3f-8fe8-4f85-b4df-fd09c12ec95f",
     "showTitle": false,
     "title": ""
    }
   },
   "outputs": [],
   "source": [
    "from langchain import PromptTemplate\n",
    "template = \"\"\"For the given \"Question\" following content are parts of a long document that may contain the answer, create a final answer while referencing the source exactly as \"SOURCES\". \n",
    "If you don't know the answer, just say that you don't know and return \"SOURCES\" as NULL.\n",
    "Don't try to make up a final answer.\n",
    "Don't look for answers in the first example shown below.\n",
    "Don't try to make up additional questions.\n",
    "Don't stray away from the content in the extracted parts of the document.\n",
    "Don't make up anything apart from the final answer.\n",
    "ALWAYS return a \"SOURCES\" part in your answer.\n",
    "\"SOURCES\" should always have the page number found of the \"Source\".\n",
    "There should be nothing after the page numbers of \"SOURCES\", end the response there.\n",
    "The following is an example to demonstrate the formatting of FINAL ANSWER and SOURCES, use them as a strict reference for format.\n",
    "Question: When was George Washington president?\n",
    "========\n",
    "Content: Joe Biden is the 46th president of Unites States since January 20, 2021\n",
    "Source: page-4\n",
    "Content: George Washington (February 22, 1732[b] - December 14, 1799) was an American military officer, statesman,\n",
    "and Founding Father who served as the first president of the United States from 1789 to 1797.\n",
    "Source: page-2\n",
    "========\n",
    "FINAL ANSWER: George Washington was president from 1789 to 1797\n",
    "SOURCES: page-2\n",
    "\n",
    "The following is the actual question being asked, fill in the final answer and SOURCES here.\n",
    "\n",
    "QUESTION: {question}\n",
    "=========\n",
    "{summaries}\n",
    "=========\n",
    "FINAL ANSWER:\"\"\"\n",
    "prompt_with_context = PromptTemplate(input_variables=[\"question\", \"summaries\"], template=template)"
   ]
  },
  {
   "cell_type": "code",
   "execution_count": null,
   "metadata": {
    "application/vnd.databricks.v1+cell": {
     "cellMetadata": {
      "byteLimit": 2048000,
      "rowLimit": 10000
     },
     "inputWidgets": {},
     "nuid": "2d61c9eb-26dc-4a04-aab8-ffa897af5b53",
     "showTitle": false,
     "title": ""
    }
   },
   "outputs": [
    {
     "name": "stdout",
     "output_type": "stream",
     "text": [
      "Out[18]: 400"
     ]
    }
   ],
   "source": [
    "len(tokenizer.tokenize(template))"
   ]
  },
  {
   "cell_type": "code",
   "execution_count": null,
   "metadata": {
    "application/vnd.databricks.v1+cell": {
     "cellMetadata": {
      "byteLimit": 2048000,
      "rowLimit": 10000
     },
     "inputWidgets": {},
     "nuid": "5f04651b-8fbf-4f1e-aaf5-e5c84a5b2fef",
     "showTitle": false,
     "title": ""
    }
   },
   "outputs": [],
   "source": [
    "from langchain import PromptTemplate, LLMChain\n",
    "# # template for an instruction with input\n",
    "# prompt_with_context = PromptTemplate(\n",
    "#     input_variables=[\"instruction\", \"context\"],\n",
    "#     template=\"{instruction}\\n\\nInput:\\n{context}\")\n",
    "llm_context_chain = LLMChain(llm=hf, prompt=prompt_with_context)"
   ]
  },
  {
   "cell_type": "code",
   "execution_count": null,
   "metadata": {
    "application/vnd.databricks.v1+cell": {
     "cellMetadata": {
      "byteLimit": 2048000,
      "rowLimit": 10000
     },
     "inputWidgets": {},
     "nuid": "5b4478be-a0eb-4d01-a911-d014f8211ece",
     "showTitle": false,
     "title": ""
    }
   },
   "outputs": [],
   "source": [
    "import re\n",
    "def make_summary(doc):\n",
    "    return f\"Content: {doc.page_content}\\nSource: page-{doc.metadata['page']}\"\n",
    "\n",
    "def retrieve_and_generate(question, return_source_docs=False, docs=None):\n",
    "    if docs is None:\n",
    "        docs = retriever.get_relevant_documents(question)[:1]\n",
    "    summaries = \"\\n\".join(map(make_summary, docs))\n",
    "    # summaries = make_summary(docs[0])\n",
    "    answer = llm_context_chain.predict(question=question, summaries=summaries).lstrip()\n",
    "    output = {\"raw\": answer}\n",
    "    \n",
    "    pages = re.findall(r\"SOURCES: (page-\\d+)\", answer)\n",
    "    if len(pages) > 0:\n",
    "        output[\"source\"] = pages[0]\n",
    "        output[\"answer\"] = answer[:answer.find(\"SOURCES\")].strip()\n",
    "    else:\n",
    "        print(\"WARNING: Prompt is not working with the model. SOURCES not found in generated response\")\n",
    "        output[\"answer\"] = answer\n",
    "        output[\"source\"] = \"NULL\"\n",
    "    \n",
    "    if return_source_docs:\n",
    "        output[\"docs\"] = docs\n",
    "    return output"
   ]
  },
  {
   "cell_type": "code",
   "execution_count": null,
   "metadata": {
    "application/vnd.databricks.v1+cell": {
     "cellMetadata": {
      "byteLimit": 2048000,
      "rowLimit": 10000
     },
     "inputWidgets": {},
     "nuid": "a4b53b54-c68b-4e13-9cde-e9649b464e7c",
     "showTitle": false,
     "title": ""
    }
   },
   "outputs": [],
   "source": [
    "import warnings\n",
    "warnings.filterwarnings(\"ignore\")"
   ]
  },
  {
   "cell_type": "code",
   "execution_count": null,
   "metadata": {
    "application/vnd.databricks.v1+cell": {
     "cellMetadata": {
      "byteLimit": 2048000,
      "rowLimit": 10000
     },
     "inputWidgets": {},
     "nuid": "0269874b-660b-47a1-b31c-354e37d40037",
     "showTitle": false,
     "title": ""
    }
   },
   "outputs": [
    {
     "name": "stderr",
     "output_type": "stream",
     "text": [
      "Setting `pad_token_id` to `eos_token_id`:11 for open-end generation.\n"
     ]
    },
    {
     "name": "stdout",
     "output_type": "stream",
     "text": [
      "Answer: Water inlet filters prevent dirt and foreign materials from entering the washing machine and are recommended to be cleaned every 2 months.\n",
      "\n",
      "Source: page-22\n"
     ]
    }
   ],
   "source": [
    "output = retrieve_and_generate(\"What is the purpose of water inlet filters?\", return_source_docs=True)\n",
    "print(f\"Answer: {output['answer']}\\n\\nSource: {output['source']}\")"
   ]
  },
  {
   "cell_type": "code",
   "execution_count": null,
   "metadata": {
    "application/vnd.databricks.v1+cell": {
     "cellMetadata": {
      "byteLimit": 2048000,
      "rowLimit": 10000
     },
     "inputWidgets": {},
     "nuid": "c8968e82-c405-42ef-89c4-1d8462e0abaa",
     "showTitle": false,
     "title": ""
    }
   },
   "outputs": [
    {
     "name": "stderr",
     "output_type": "stream",
     "text": [
      "Setting `pad_token_id` to `eos_token_id`:11 for open-end generation.\n"
     ]
    },
    {
     "name": "stdout",
     "output_type": "stream",
     "text": [
      "Answer: Water inlet filters prevent dirt and foreign materials from entering a washing machine, and they should be cleaned every 2 months.\n",
      "\n",
      "Source: page-22\n"
     ]
    }
   ],
   "source": [
    "output = retrieve_and_generate(\"What is the purpose of water inlet filters?\", return_source_docs=True)\n",
    "print(f\"Answer: {output['answer']}\\n\\nSource: {output['source']}\")"
   ]
  },
  {
   "cell_type": "code",
   "execution_count": null,
   "metadata": {
    "application/vnd.databricks.v1+cell": {
     "cellMetadata": {
      "byteLimit": 2048000,
      "rowLimit": 10000
     },
     "inputWidgets": {},
     "nuid": "cc92ffcf-1f10-4c6f-b83e-299e381e450a",
     "showTitle": false,
     "title": ""
    }
   },
   "outputs": [
    {
     "name": "stderr",
     "output_type": "stream",
     "text": [
      "Setting `pad_token_id` to `eos_token_id`:11 for open-end generation.\n"
     ]
    },
    {
     "name": "stdout",
     "output_type": "stream",
     "text": [
      "Answer: To clean rust stains in the drum, use a non-chlorine cleaning agent and follow the instructions of the manufacturer. Never use wire wool or hard objects for cleaning.\n",
      "\n",
      "Source: page-24\n"
     ]
    }
   ],
   "source": [
    "output = retrieve_and_generate(\"What can I use to clean rust stains in the drum?\", return_source_docs=True)\n",
    "print(f\"Answer: {output['answer']}\\n\\nSource: {output['source']}\")"
   ]
  },
  {
   "cell_type": "code",
   "execution_count": null,
   "metadata": {
    "application/vnd.databricks.v1+cell": {
     "cellMetadata": {
      "byteLimit": 2048000,
      "rowLimit": 10000
     },
     "inputWidgets": {},
     "nuid": "37da417f-cb7c-44ca-9d86-5996c49a52ee",
     "showTitle": false,
     "title": ""
    }
   },
   "outputs": [
    {
     "name": "stderr",
     "output_type": "stream",
     "text": [
      "Setting `pad_token_id` to `eos_token_id`:11 for open-end generation.\n"
     ]
    },
    {
     "name": "stdout",
     "output_type": "stream",
     "text": [
      "Answer: Children under the age of 8 are not recommended to use the washing machine without adult supervision.\n",
      "\n",
      "Source: page-4\n"
     ]
    }
   ],
   "source": [
    "output = retrieve_and_generate(\"What is the recommended age for children to use the washing machine?\", return_source_docs=True)\n",
    "print(f\"Answer: {output['answer']}\\n\\nSource: {output['source']}\")"
   ]
  },
  {
   "cell_type": "code",
   "execution_count": null,
   "metadata": {
    "application/vnd.databricks.v1+cell": {
     "cellMetadata": {
      "byteLimit": 2048000,
      "rowLimit": 10000
     },
     "inputWidgets": {},
     "nuid": "f0b55f85-56e5-4dc4-9926-8c2699052f6b",
     "showTitle": false,
     "title": ""
    }
   },
   "outputs": [
    {
     "name": "stderr",
     "output_type": "stream",
     "text": [
      "Setting `pad_token_id` to `eos_token_id`:11 for open-end generation.\n"
     ]
    },
    {
     "name": "stdout",
     "output_type": "stream",
     "text": [
      "Answer: 10\n",
      "\n",
      "Source: page-8\n"
     ]
    }
   ],
   "source": [
    "output = retrieve_and_generate(\"What is the recommended age for children to use the machine?\", docs=pdf_files.loc[8:8].document_pages)\n",
    "print(f\"Answer: {output['answer']}\\n\\nSource: {output['source']}\")"
   ]
  },
  {
   "cell_type": "code",
   "execution_count": null,
   "metadata": {
    "application/vnd.databricks.v1+cell": {
     "cellMetadata": {
      "byteLimit": 2048000,
      "rowLimit": 10000
     },
     "inputWidgets": {},
     "nuid": "678510ce-59e3-407f-89a7-313253903410",
     "showTitle": false,
     "title": ""
    }
   },
   "outputs": [
    {
     "name": "stderr",
     "output_type": "stream",
     "text": [
      "Setting `pad_token_id` to `eos_token_id`:11 for open-end generation.\n"
     ]
    },
    {
     "name": "stdout",
     "output_type": "stream",
     "text": [
      "Answer: The closet with carpet\n",
      "\n",
      "Source: page-4\n"
     ]
    }
   ],
   "source": [
    "output = retrieve_and_generate(\"Choose a safe place for the machine - the closet with carpet or kitchen with hardwood floor?\", return_source_docs=True)\n",
    "print(f\"Answer: {output['answer']}\\n\\nSource: {output['source']}\")"
   ]
  },
  {
   "cell_type": "code",
   "execution_count": null,
   "metadata": {
    "application/vnd.databricks.v1+cell": {
     "cellMetadata": {
      "byteLimit": 2048000,
      "rowLimit": 10000
     },
     "inputWidgets": {},
     "nuid": "2dca51dd-823c-4736-b56b-6a676eb642c0",
     "showTitle": false,
     "title": ""
    }
   },
   "outputs": [
    {
     "name": "stderr",
     "output_type": "stream",
     "text": [
      "Setting `pad_token_id` to `eos_token_id`:11 for open-end generation.\n"
     ]
    },
    {
     "name": "stdout",
     "output_type": "stream",
     "text": [
      "Answer: The safest place to install the washing machine is on a firm surface such as a concrete floor in the laundry room.\n",
      "\n",
      "Source: page-11\n"
     ]
    }
   ],
   "source": [
    "output = retrieve_and_generate(\"Choose a safe place for the machine - the closet with carpet or kitchen with hardwood floor?\", docs=pdf_files.loc[11:11].document_pages)\n",
    "print(f\"Answer: {output['answer']}\\n\\nSource: {output['source']}\")"
   ]
  }
 ],
 "metadata": {
  "application/vnd.databricks.v1+notebook": {
   "dashboards": [],
   "language": "python",
   "notebookMetadata": {
    "mostRecentlyExecutedCommandWithImplicitDF": {
     "commandId": 4060887258407385,
     "dataframes": [
      "_sqldf"
     ]
    },
    "pythonIndentUnit": 4
   },
   "notebookName": "falcon_retrieval_chain",
   "widgets": {}
  },
  "kernelspec": {
   "display_name": "Python 3",
   "language": "python",
   "name": "python3"
  },
  "language_info": {
   "codemirror_mode": {
    "name": "ipython",
    "version": 3
   },
   "file_extension": ".py",
   "mimetype": "text/x-python",
   "name": "python",
   "nbconvert_exporter": "python",
   "pygments_lexer": "ipython3",
   "version": "3.10.8"
  }
 },
 "nbformat": 4,
 "nbformat_minor": 0
}
